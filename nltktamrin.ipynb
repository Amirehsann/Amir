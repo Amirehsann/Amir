{
  "nbformat": 4,
  "nbformat_minor": 0,
  "metadata": {
    "colab": {
      "provenance": [],
      "include_colab_link": true
    },
    "kernelspec": {
      "name": "python3",
      "display_name": "Python 3"
    },
    "language_info": {
      "name": "python"
    }
  },
  "cells": [
    {
      "cell_type": "markdown",
      "metadata": {
        "id": "view-in-github",
        "colab_type": "text"
      },
      "source": [
        "<a href=\"https://colab.research.google.com/github/Amirehsann/Amir/blob/main/nltktamrin.ipynb\" target=\"_parent\"><img src=\"https://colab.research.google.com/assets/colab-badge.svg\" alt=\"Open In Colab\"/></a>"
      ]
    },
    {
      "cell_type": "code",
      "execution_count": null,
      "metadata": {
        "colab": {
          "base_uri": "https://localhost:8080/"
        },
        "id": "zuWCRMgltAeC",
        "outputId": "e877f2c0-4b35-4aaa-f39e-20ae2439f937"
      },
      "outputs": [
        {
          "output_type": "stream",
          "name": "stderr",
          "text": [
            "[nltk_data] Downloading package punkt to /root/nltk_data...\n",
            "[nltk_data]   Unzipping tokenizers/punkt.zip.\n"
          ]
        },
        {
          "output_type": "execute_result",
          "data": {
            "text/plain": [
              "True"
            ]
          },
          "metadata": {},
          "execution_count": 1
        }
      ],
      "source": [
        "import nltk\n",
        "nltk.download('punkt')"
      ]
    },
    {
      "cell_type": "code",
      "source": [
        "\n",
        "\n",
        "\n",
        "\n",
        "paragraph = \"\"\"Sure! Here is a 500-word text about the field of Computer Engineering:\n",
        "\n",
        "Computer Engineering is a dynamic and rapidly evolving field that encompasses the design, development, and implementation of computer systems and software. It combines principles of electrical engineering and computer science to create innovative solutions to complex problems.\n",
        "\n",
        "Computer engineers play a vital role in shaping the future of technology. They are responsible for designing and building computer hardware, such as processors, memory systems, and input/output devices. They also develop software applications and algorithms that enable these hardware components to function effectively.\n",
        "\n",
        "One of the key areas of focus in computer engineering is the design and development of microprocessors. These tiny yet powerful chips are the heart of modern computing devices, from smartphones to supercomputers. Computer engineers work on improving the performance, power efficiency, and reliability of microprocessors, pushing the boundaries of what is possible in terms of computational power.\n",
        "\n",
        "Another important aspect of computer engineering is the field of software engineering. Computer engineers collaborate with software developers to create efficient and reliable software applications. They analyze user requirements, design software architectures, and implement algorithms to achieve desired functionalities. They also work on optimizing software performance and ensuring its compatibility with different operating systems.\n",
        "\n",
        "Computer engineers are at the forefront of technological advancements, such as artificial intelligence, machine learning, and cybersecurity. They develop algorithms and systems that enable machines to learn and make decisions, opening up new possibilities in various industries. They also work on securing computer systems from cyber threats and ensuring the privacy and integrity of data.\n",
        "\n",
        "In addition to technical skills, computer engineers must possess strong problem-solving and analytical abilities. They need to be able to identify and tackle complex challenges, often working in multidisciplinary teams. Effective communication and teamwork skills are also crucial in this field, as computer engineers often collaborate with professionals from different backgrounds.\n",
        "\n",
        "The field of computer engineering offers a wide range of career opportunities. Graduates can work in industries such as telecommunications, consumer electronics, automotive, and aerospace. They can also pursue research and development roles in academia or join startups to work on innovative technologies.\n",
        "\n",
        "In conclusion, computer engineering is an exciting and ever-evolving field that combines electrical engineering and computer science principles. With their expertise in hardware and software systems, computer engineers are instrumental in shaping the future of technology and driving innovation in various industries.\"\"\""
      ],
      "metadata": {
        "id": "uYdHOuiStU5S"
      },
      "execution_count": null,
      "outputs": []
    },
    {
      "cell_type": "code",
      "source": [
        "#Tokenizing sentences\n",
        "sentences = nltk.sent_tokenize(paragraph)\n",
        "sentences"
      ],
      "metadata": {
        "colab": {
          "base_uri": "https://localhost:8080/"
        },
        "id": "YXnP3yDJuJCc",
        "outputId": "aaf45a73-6e2b-44a8-80a8-a68d2cc601af"
      },
      "execution_count": null,
      "outputs": [
        {
          "output_type": "execute_result",
          "data": {
            "text/plain": [
              "['There are many different breeds of cats, including Abyssinian, Himalayan, Maine Coon, Manx, Persian, Scottish Fold, and Siamese, to name a few.',\n",
              " 'The Cat Fanciers’ Association, which is the world’s largest registry of pedigreed cats, recognizes about 40 distinct breeds.',\n",
              " 'The most familiar cats are the domestic shorthair and the domestic longhair, which are really mixtures of different breeds.',\n",
              " 'Cat breeds differ in looks, coat length, and other characteristics but vary relatively little in size.',\n",
              " 'On average, only 5 to 10 pounds separate the smallest and largest domestic breeds of cats.',\n",
              " 'Feline skin, like that of people and dogs, has an outer layer called the epidermis that is constantly being replaced, and an inner layer called the dermis that contains nerves and blood vessels, oil glands, and hair follicles.',\n",
              " 'The oil glands secrete sebum that coats and protects the fur, giving it a glossy sheen.',\n",
              " 'Feline skin is more sensitive than human skin, which is why it is important to use topical preparations that are specifically formulated for pets.',\n",
              " 'Shampoos and other topical products for people can irritate your cat’s skin and should be avoided.',\n",
              " 'Cat fur protects the skin from sun, cold, scratches, and insect bites; helps regulate body temperature; and supports the sense of touch.',\n",
              " 'Cat fur consists of several types of hairs.',\n",
              " 'Cats also have whiskers that are attached to nerve cells in the face.',\n",
              " 'These sensitive hairs can be used to judge the size of an opening, such as a rodent hole.',\n",
              " 'As in dogs, cats have small muscles attached to hair follicles, which can make hair stand erect for temperature control or as a warning sign (that is, “raised hackles”) in response to danger.',\n",
              " 'Different breeds of cats have different types of hair coats.',\n",
              " 'Some have long hair (for example, the Persian, the domestic longhair), some have short hair (the Abyssinian, domestic shorthair), and some have “-mutant” hair.',\n",
              " 'The mutant hair types on Rex or wire-haired breeds are shorter and curlier than the hair of most other cats.',\n",
              " 'Some breeds even lack hair on certain areas of the body, usually the chest and belly.',\n",
              " 'Cats shed hair naturally year round, although the rate of shedding depends on climate, nutrition, and general overall health.',\n",
              " 'Outdoor cats shed more in fall and spring.',\n",
              " 'Shedding may increase in all cats due to stress, such as a trip to the veterinarian.',\n",
              " 'Excessive shedding and bald patches can be a sign of illness that should be investigated.']"
            ]
          },
          "metadata": {},
          "execution_count": 6
        }
      ]
    },
    {
      "cell_type": "code",
      "source": [
        "#Tokenizing words\n",
        "words = nltk.word_tokenize(paragraph)\n",
        "words"
      ],
      "metadata": {
        "colab": {
          "base_uri": "https://localhost:8080/"
        },
        "id": "mmQY8GbUuyxh",
        "outputId": "70bc27d2-dbc1-4b67-a195-cb64e19f18de"
      },
      "execution_count": null,
      "outputs": [
        {
          "output_type": "execute_result",
          "data": {
            "text/plain": [
              "['There',\n",
              " 'are',\n",
              " 'many',\n",
              " 'different',\n",
              " 'breeds',\n",
              " 'of',\n",
              " 'cats',\n",
              " ',',\n",
              " 'including',\n",
              " 'Abyssinian',\n",
              " ',',\n",
              " 'Himalayan',\n",
              " ',',\n",
              " 'Maine',\n",
              " 'Coon',\n",
              " ',',\n",
              " 'Manx',\n",
              " ',',\n",
              " 'Persian',\n",
              " ',',\n",
              " 'Scottish',\n",
              " 'Fold',\n",
              " ',',\n",
              " 'and',\n",
              " 'Siamese',\n",
              " ',',\n",
              " 'to',\n",
              " 'name',\n",
              " 'a',\n",
              " 'few',\n",
              " '.',\n",
              " 'The',\n",
              " 'Cat',\n",
              " 'Fanciers',\n",
              " '’',\n",
              " 'Association',\n",
              " ',',\n",
              " 'which',\n",
              " 'is',\n",
              " 'the',\n",
              " 'world',\n",
              " '’',\n",
              " 's',\n",
              " 'largest',\n",
              " 'registry',\n",
              " 'of',\n",
              " 'pedigreed',\n",
              " 'cats',\n",
              " ',',\n",
              " 'recognizes',\n",
              " 'about',\n",
              " '40',\n",
              " 'distinct',\n",
              " 'breeds',\n",
              " '.',\n",
              " 'The',\n",
              " 'most',\n",
              " 'familiar',\n",
              " 'cats',\n",
              " 'are',\n",
              " 'the',\n",
              " 'domestic',\n",
              " 'shorthair',\n",
              " 'and',\n",
              " 'the',\n",
              " 'domestic',\n",
              " 'longhair',\n",
              " ',',\n",
              " 'which',\n",
              " 'are',\n",
              " 'really',\n",
              " 'mixtures',\n",
              " 'of',\n",
              " 'different',\n",
              " 'breeds',\n",
              " '.',\n",
              " 'Cat',\n",
              " 'breeds',\n",
              " 'differ',\n",
              " 'in',\n",
              " 'looks',\n",
              " ',',\n",
              " 'coat',\n",
              " 'length',\n",
              " ',',\n",
              " 'and',\n",
              " 'other',\n",
              " 'characteristics',\n",
              " 'but',\n",
              " 'vary',\n",
              " 'relatively',\n",
              " 'little',\n",
              " 'in',\n",
              " 'size',\n",
              " '.',\n",
              " 'On',\n",
              " 'average',\n",
              " ',',\n",
              " 'only',\n",
              " '5',\n",
              " 'to',\n",
              " '10',\n",
              " 'pounds',\n",
              " 'separate',\n",
              " 'the',\n",
              " 'smallest',\n",
              " 'and',\n",
              " 'largest',\n",
              " 'domestic',\n",
              " 'breeds',\n",
              " 'of',\n",
              " 'cats',\n",
              " '.',\n",
              " 'Feline',\n",
              " 'skin',\n",
              " ',',\n",
              " 'like',\n",
              " 'that',\n",
              " 'of',\n",
              " 'people',\n",
              " 'and',\n",
              " 'dogs',\n",
              " ',',\n",
              " 'has',\n",
              " 'an',\n",
              " 'outer',\n",
              " 'layer',\n",
              " 'called',\n",
              " 'the',\n",
              " 'epidermis',\n",
              " 'that',\n",
              " 'is',\n",
              " 'constantly',\n",
              " 'being',\n",
              " 'replaced',\n",
              " ',',\n",
              " 'and',\n",
              " 'an',\n",
              " 'inner',\n",
              " 'layer',\n",
              " 'called',\n",
              " 'the',\n",
              " 'dermis',\n",
              " 'that',\n",
              " 'contains',\n",
              " 'nerves',\n",
              " 'and',\n",
              " 'blood',\n",
              " 'vessels',\n",
              " ',',\n",
              " 'oil',\n",
              " 'glands',\n",
              " ',',\n",
              " 'and',\n",
              " 'hair',\n",
              " 'follicles',\n",
              " '.',\n",
              " 'The',\n",
              " 'oil',\n",
              " 'glands',\n",
              " 'secrete',\n",
              " 'sebum',\n",
              " 'that',\n",
              " 'coats',\n",
              " 'and',\n",
              " 'protects',\n",
              " 'the',\n",
              " 'fur',\n",
              " ',',\n",
              " 'giving',\n",
              " 'it',\n",
              " 'a',\n",
              " 'glossy',\n",
              " 'sheen',\n",
              " '.',\n",
              " 'Feline',\n",
              " 'skin',\n",
              " 'is',\n",
              " 'more',\n",
              " 'sensitive',\n",
              " 'than',\n",
              " 'human',\n",
              " 'skin',\n",
              " ',',\n",
              " 'which',\n",
              " 'is',\n",
              " 'why',\n",
              " 'it',\n",
              " 'is',\n",
              " 'important',\n",
              " 'to',\n",
              " 'use',\n",
              " 'topical',\n",
              " 'preparations',\n",
              " 'that',\n",
              " 'are',\n",
              " 'specifically',\n",
              " 'formulated',\n",
              " 'for',\n",
              " 'pets',\n",
              " '.',\n",
              " 'Shampoos',\n",
              " 'and',\n",
              " 'other',\n",
              " 'topical',\n",
              " 'products',\n",
              " 'for',\n",
              " 'people',\n",
              " 'can',\n",
              " 'irritate',\n",
              " 'your',\n",
              " 'cat',\n",
              " '’',\n",
              " 's',\n",
              " 'skin',\n",
              " 'and',\n",
              " 'should',\n",
              " 'be',\n",
              " 'avoided',\n",
              " '.',\n",
              " 'Cat',\n",
              " 'fur',\n",
              " 'protects',\n",
              " 'the',\n",
              " 'skin',\n",
              " 'from',\n",
              " 'sun',\n",
              " ',',\n",
              " 'cold',\n",
              " ',',\n",
              " 'scratches',\n",
              " ',',\n",
              " 'and',\n",
              " 'insect',\n",
              " 'bites',\n",
              " ';',\n",
              " 'helps',\n",
              " 'regulate',\n",
              " 'body',\n",
              " 'temperature',\n",
              " ';',\n",
              " 'and',\n",
              " 'supports',\n",
              " 'the',\n",
              " 'sense',\n",
              " 'of',\n",
              " 'touch',\n",
              " '.',\n",
              " 'Cat',\n",
              " 'fur',\n",
              " 'consists',\n",
              " 'of',\n",
              " 'several',\n",
              " 'types',\n",
              " 'of',\n",
              " 'hairs',\n",
              " '.',\n",
              " 'Cats',\n",
              " 'also',\n",
              " 'have',\n",
              " 'whiskers',\n",
              " 'that',\n",
              " 'are',\n",
              " 'attached',\n",
              " 'to',\n",
              " 'nerve',\n",
              " 'cells',\n",
              " 'in',\n",
              " 'the',\n",
              " 'face',\n",
              " '.',\n",
              " 'These',\n",
              " 'sensitive',\n",
              " 'hairs',\n",
              " 'can',\n",
              " 'be',\n",
              " 'used',\n",
              " 'to',\n",
              " 'judge',\n",
              " 'the',\n",
              " 'size',\n",
              " 'of',\n",
              " 'an',\n",
              " 'opening',\n",
              " ',',\n",
              " 'such',\n",
              " 'as',\n",
              " 'a',\n",
              " 'rodent',\n",
              " 'hole',\n",
              " '.',\n",
              " 'As',\n",
              " 'in',\n",
              " 'dogs',\n",
              " ',',\n",
              " 'cats',\n",
              " 'have',\n",
              " 'small',\n",
              " 'muscles',\n",
              " 'attached',\n",
              " 'to',\n",
              " 'hair',\n",
              " 'follicles',\n",
              " ',',\n",
              " 'which',\n",
              " 'can',\n",
              " 'make',\n",
              " 'hair',\n",
              " 'stand',\n",
              " 'erect',\n",
              " 'for',\n",
              " 'temperature',\n",
              " 'control',\n",
              " 'or',\n",
              " 'as',\n",
              " 'a',\n",
              " 'warning',\n",
              " 'sign',\n",
              " '(',\n",
              " 'that',\n",
              " 'is',\n",
              " ',',\n",
              " '“',\n",
              " 'raised',\n",
              " 'hackles',\n",
              " '”',\n",
              " ')',\n",
              " 'in',\n",
              " 'response',\n",
              " 'to',\n",
              " 'danger',\n",
              " '.',\n",
              " 'Different',\n",
              " 'breeds',\n",
              " 'of',\n",
              " 'cats',\n",
              " 'have',\n",
              " 'different',\n",
              " 'types',\n",
              " 'of',\n",
              " 'hair',\n",
              " 'coats',\n",
              " '.',\n",
              " 'Some',\n",
              " 'have',\n",
              " 'long',\n",
              " 'hair',\n",
              " '(',\n",
              " 'for',\n",
              " 'example',\n",
              " ',',\n",
              " 'the',\n",
              " 'Persian',\n",
              " ',',\n",
              " 'the',\n",
              " 'domestic',\n",
              " 'longhair',\n",
              " ')',\n",
              " ',',\n",
              " 'some',\n",
              " 'have',\n",
              " 'short',\n",
              " 'hair',\n",
              " '(',\n",
              " 'the',\n",
              " 'Abyssinian',\n",
              " ',',\n",
              " 'domestic',\n",
              " 'shorthair',\n",
              " ')',\n",
              " ',',\n",
              " 'and',\n",
              " 'some',\n",
              " 'have',\n",
              " '“',\n",
              " '-mutant',\n",
              " '”',\n",
              " 'hair',\n",
              " '.',\n",
              " 'The',\n",
              " 'mutant',\n",
              " 'hair',\n",
              " 'types',\n",
              " 'on',\n",
              " 'Rex',\n",
              " 'or',\n",
              " 'wire-haired',\n",
              " 'breeds',\n",
              " 'are',\n",
              " 'shorter',\n",
              " 'and',\n",
              " 'curlier',\n",
              " 'than',\n",
              " 'the',\n",
              " 'hair',\n",
              " 'of',\n",
              " 'most',\n",
              " 'other',\n",
              " 'cats',\n",
              " '.',\n",
              " 'Some',\n",
              " 'breeds',\n",
              " 'even',\n",
              " 'lack',\n",
              " 'hair',\n",
              " 'on',\n",
              " 'certain',\n",
              " 'areas',\n",
              " 'of',\n",
              " 'the',\n",
              " 'body',\n",
              " ',',\n",
              " 'usually',\n",
              " 'the',\n",
              " 'chest',\n",
              " 'and',\n",
              " 'belly',\n",
              " '.',\n",
              " 'Cats',\n",
              " 'shed',\n",
              " 'hair',\n",
              " 'naturally',\n",
              " 'year',\n",
              " 'round',\n",
              " ',',\n",
              " 'although',\n",
              " 'the',\n",
              " 'rate',\n",
              " 'of',\n",
              " 'shedding',\n",
              " 'depends',\n",
              " 'on',\n",
              " 'climate',\n",
              " ',',\n",
              " 'nutrition',\n",
              " ',',\n",
              " 'and',\n",
              " 'general',\n",
              " 'overall',\n",
              " 'health',\n",
              " '.',\n",
              " 'Outdoor',\n",
              " 'cats',\n",
              " 'shed',\n",
              " 'more',\n",
              " 'in',\n",
              " 'fall',\n",
              " 'and',\n",
              " 'spring',\n",
              " '.',\n",
              " 'Shedding',\n",
              " 'may',\n",
              " 'increase',\n",
              " 'in',\n",
              " 'all',\n",
              " 'cats',\n",
              " 'due',\n",
              " 'to',\n",
              " 'stress',\n",
              " ',',\n",
              " 'such',\n",
              " 'as',\n",
              " 'a',\n",
              " 'trip',\n",
              " 'to',\n",
              " 'the',\n",
              " 'veterinarian',\n",
              " '.',\n",
              " 'Excessive',\n",
              " 'shedding',\n",
              " 'and',\n",
              " 'bald',\n",
              " 'patches',\n",
              " 'can',\n",
              " 'be',\n",
              " 'a',\n",
              " 'sign',\n",
              " 'of',\n",
              " 'illness',\n",
              " 'that',\n",
              " 'should',\n",
              " 'be',\n",
              " 'investigated',\n",
              " '.']"
            ]
          },
          "metadata": {},
          "execution_count": 7
        }
      ]
    },
    {
      "cell_type": "code",
      "source": [
        "from nltk.stem import PorterStemmer\n",
        "from nltk.corpus import stopwords\n",
        "nltk.download('stopwords')"
      ],
      "metadata": {
        "colab": {
          "base_uri": "https://localhost:8080/"
        },
        "id": "-5abMdN_vWnW",
        "outputId": "f21e8fc9-c732-4eba-84dc-ed42100aa1db"
      },
      "execution_count": null,
      "outputs": [
        {
          "output_type": "stream",
          "name": "stderr",
          "text": [
            "[nltk_data] Downloading package stopwords to /root/nltk_data...\n",
            "[nltk_data]   Unzipping corpora/stopwords.zip.\n"
          ]
        },
        {
          "output_type": "execute_result",
          "data": {
            "text/plain": [
              "True"
            ]
          },
          "metadata": {},
          "execution_count": 8
        }
      ]
    },
    {
      "cell_type": "code",
      "source": [
        "stemmer = PorterStemmer()\n",
        "\n",
        "#stemming\n",
        "for i in range(len(sentences)):\n",
        "  words = nltk.word_tokenize(sentences[i])\n",
        "  words = [stemmer.stem(word) for word in words if word not in set(stopwords.words('english'))]\n",
        "  sentences[i] = ' '.join(words)"
      ],
      "metadata": {
        "id": "ZOKiYNR4v3YE"
      },
      "execution_count": null,
      "outputs": []
    },
    {
      "cell_type": "code",
      "source": [
        "sentences[1]"
      ],
      "metadata": {
        "colab": {
          "base_uri": "https://localhost:8080/",
          "height": 35
        },
        "id": "GiX9biFjw4cy",
        "outputId": "67e1f712-6e72-4599-b1b6-e7de66442cc8"
      },
      "execution_count": null,
      "outputs": [
        {
          "output_type": "execute_result",
          "data": {
            "text/plain": [
              "'thecatf ’ associ , world ’ largestregistripedigrecat , recogn40distinctbr .'"
            ],
            "application/vnd.google.colaboratory.intrinsic+json": {
              "type": "string"
            }
          },
          "metadata": {},
          "execution_count": 23
        }
      ]
    },
    {
      "cell_type": "code",
      "source": [],
      "metadata": {
        "id": "8rhVx-SJy8aj"
      },
      "execution_count": null,
      "outputs": []
    },
    {
      "cell_type": "code",
      "source": [
        "from nltk.stem import WordNetLemmatizer\n",
        "nltk.download('wordnet')"
      ],
      "metadata": {
        "colab": {
          "base_uri": "https://localhost:8080/"
        },
        "id": "oqKadlHYxMy1",
        "outputId": "a8f7ba56-bc6c-4caf-853e-b58ca2af433c"
      },
      "execution_count": null,
      "outputs": [
        {
          "output_type": "stream",
          "name": "stderr",
          "text": [
            "[nltk_data] Downloading package wordnet to /root/nltk_data...\n"
          ]
        },
        {
          "output_type": "execute_result",
          "data": {
            "text/plain": [
              "True"
            ]
          },
          "metadata": {},
          "execution_count": 15
        }
      ]
    },
    {
      "cell_type": "code",
      "source": [
        "lemmatizer = WordNetLemmatizer()\n",
        "\n",
        "sentencess = nltk.sent_tokenize(paragraph)\n",
        "\n",
        "#lemmatization\n",
        "for i in range(len(sentencess)):\n",
        "  words = nltk.word_tokenize(sentences[i])\n",
        "  words = [lemmatizer.lemmatize(word) for word in words if word not in set(stopwords.words('english'))]\n",
        "  sentencess[i] = ' '.join(words)"
      ],
      "metadata": {
        "id": "njGd78AMxjBV"
      },
      "execution_count": null,
      "outputs": []
    },
    {
      "cell_type": "code",
      "source": [
        "sentencess[1]"
      ],
      "metadata": {
        "colab": {
          "base_uri": "https://localhost:8080/",
          "height": 35
        },
        "id": "NNUnVl5Pye0y",
        "outputId": "38cf894e-7cb7-4935-d02a-7028af12ee3a"
      },
      "execution_count": null,
      "outputs": [
        {
          "output_type": "execute_result",
          "data": {
            "text/plain": [
              "'thecatf ’ associ , world ’ largestregistripedigrecat , recogn40distinctbr .'"
            ],
            "application/vnd.google.colaboratory.intrinsic+json": {
              "type": "string"
            }
          },
          "metadata": {},
          "execution_count": 24
        }
      ]
    },
    {
      "cell_type": "code",
      "source": [
        "#Cleaning the texts\n",
        "import re\n",
        "from nltk.corpus import stopwords\n",
        "from nltk.stem.porter import PorterStemmer\n",
        "from nltk.stem import WordNetLemmatizer\n",
        "\n",
        "ps = PorterStemmer()\n",
        "wordnet = WordNetLemmatizer()\n",
        "sentences = nltk.sent_tokenize(paragraph)\n",
        "corpus = []\n",
        "for i in range(len(sentences)):\n",
        "  review = re.sub('[^a-zA-Z]', ' ', sentences[i])\n",
        "  review = review.lower()\n",
        "  review = review.split()\n",
        "  review = [ps.stem(word) for word in review if not word in set(stopwords.words('english'))]\n",
        "  review = ' '.join(review)\n",
        "  corpus.append(review)\n",
        "\n",
        "#Creating the bag of words model\n",
        "from sklearn.feature_extraction.text import CountVectorizer\n",
        "cv = CountVectorizer(max_features = 1500)\n",
        "X = cv.fit_transform(corpus).toarray()"
      ],
      "metadata": {
        "id": "-1fAhY-fzLcr"
      },
      "execution_count": null,
      "outputs": []
    },
    {
      "cell_type": "code",
      "source": [
        "X"
      ],
      "metadata": {
        "colab": {
          "base_uri": "https://localhost:8080/"
        },
        "id": "btvd-TTy4BuH",
        "outputId": "b1ef7c67-bd11-4e33-e44b-c9812488cba2"
      },
      "execution_count": null,
      "outputs": [
        {
          "output_type": "execute_result",
          "data": {
            "text/plain": [
              "array([[1, 0, 0, ..., 0, 0, 0],\n",
              "       [0, 0, 0, ..., 0, 1, 0],\n",
              "       [0, 0, 0, ..., 0, 0, 0],\n",
              "       ...,\n",
              "       [0, 0, 0, ..., 0, 0, 0],\n",
              "       [0, 0, 0, ..., 0, 0, 0],\n",
              "       [0, 0, 0, ..., 0, 0, 0]])"
            ]
          },
          "metadata": {},
          "execution_count": 28
        }
      ]
    },
    {
      "cell_type": "code",
      "source": [
        "sentencess = nltk.sent_tokenize(paragraph)\n",
        "corpus = []\n",
        "for i in range(len(sentencess)):\n",
        "  review = re.sub('[^a-zA-Z]', ' ', sentencess[i])\n",
        "  review = review.lower()\n",
        "  review = review.split()\n",
        "  review = [wordnet.lemmatize(word) for word in review if not word in set(stopwords.words('english'))]\n",
        "  review = ' '.join(review)\n",
        "  corpus.append(review)\n",
        "\n",
        "#Creating the TF-IDF model\n",
        "from sklearn.feature_extraction.text import TfidfVectorizer\n",
        "tf = TfidfVectorizer()\n",
        "X = tf.fit_transform(corpus).toarray()"
      ],
      "metadata": {
        "id": "zM2Nyy3X4IgF"
      },
      "execution_count": null,
      "outputs": []
    },
    {
      "cell_type": "code",
      "source": [
        "X"
      ],
      "metadata": {
        "colab": {
          "base_uri": "https://localhost:8080/"
        },
        "id": "kRKUEMm243by",
        "outputId": "5301e8dd-7898-42e1-9837-b36cdd51f8db"
      },
      "execution_count": null,
      "outputs": [
        {
          "output_type": "execute_result",
          "data": {
            "text/plain": [
              "array([[0.2478651 , 0.        , 0.        , ..., 0.        , 0.        ,\n",
              "        0.        ],\n",
              "       [0.        , 0.        , 0.        , ..., 0.        , 0.33859684,\n",
              "        0.        ],\n",
              "       [0.        , 0.        , 0.        , ..., 0.        , 0.        ,\n",
              "        0.        ],\n",
              "       ...,\n",
              "       [0.        , 0.        , 0.        , ..., 0.        , 0.        ,\n",
              "        0.        ],\n",
              "       [0.        , 0.        , 0.        , ..., 0.        , 0.        ,\n",
              "        0.        ],\n",
              "       [0.        , 0.        , 0.        , ..., 0.        , 0.        ,\n",
              "        0.        ]])"
            ]
          },
          "metadata": {},
          "execution_count": 30
        }
      ]
    }
  ]
}